{
  "metadata": {
    "language_info": {
      "codemirror_mode": {
        "name": "python",
        "version": 3
      },
      "file_extension": ".py",
      "mimetype": "text/x-python",
      "name": "python",
      "nbconvert_exporter": "python",
      "pygments_lexer": "ipython3",
      "version": "3.8"
    },
    "kernelspec": {
      "name": "python",
      "display_name": "Python (Pyodide)",
      "language": "python"
    }
  },
  "nbformat_minor": 4,
  "nbformat": 4,
  "cells": [
    {
      "cell_type": "markdown",
      "source": "## My Jupyter Notebook on IBM Watson Studio",
      "metadata": {}
    },
    {
      "cell_type": "markdown",
      "source": "**Iina T**\n\nMy desired occupation is a data scientist.",
      "metadata": {}
    },
    {
      "cell_type": "markdown",
      "source": "*I am interested in the data science as it combines my past skills and knowledge (e.g., data analysis, data visualisation), but at the same time, data science also challenges me in new ways (e.g., programming with Python, R, and SQL). I am also interested in data science as it seems to be a field that grows in importance as time passes.*",
      "metadata": {}
    },
    {
      "cell_type": "markdown",
      "source": "### In the code below, I will show some basic arithmetics that can be done in the Python language. This is some of the basic knowledge that is taught for the first time Python users.",
      "metadata": {}
    },
    {
      "cell_type": "code",
      "source": " 1 + 1",
      "metadata": {
        "trusted": true
      },
      "execution_count": 1,
      "outputs": [
        {
          "execution_count": 1,
          "output_type": "execute_result",
          "data": {
            "text/plain": "2"
          },
          "metadata": {}
        }
      ]
    },
    {
      "cell_type": "code",
      "source": "20 - 15",
      "metadata": {
        "trusted": true
      },
      "execution_count": 4,
      "outputs": [
        {
          "execution_count": 4,
          "output_type": "execute_result",
          "data": {
            "text/plain": "5"
          },
          "metadata": {}
        }
      ]
    },
    {
      "cell_type": "code",
      "source": "5 * 2",
      "metadata": {
        "trusted": true
      },
      "execution_count": 2,
      "outputs": [
        {
          "execution_count": 2,
          "output_type": "execute_result",
          "data": {
            "text/plain": "10"
          },
          "metadata": {}
        }
      ]
    },
    {
      "cell_type": "code",
      "source": "10 / 2",
      "metadata": {
        "trusted": true
      },
      "execution_count": 3,
      "outputs": [
        {
          "execution_count": 3,
          "output_type": "execute_result",
          "data": {
            "text/plain": "5.0"
          },
          "metadata": {}
        }
      ]
    },
    {
      "cell_type": "markdown",
      "source": "During this course, I have learned the following things:\n---\n\n<ol>\n<li>How to define a data scientist</li>\n<li>What is data science</li>\n<li>What is Python Jupyter.</li>\n</ol>\n\n<blockquote>These have been the very basics, and I'm eager to try more hands-on exercises. For example, like this one where I need to create a table for this Jupyter Notebook.</blockquote>\n\n|Country|Happiness Score|Population (millions)|\n|-----|-------|------| \n|Finland|94|5|\n|Sweden|90|11|\n|Denmark|92|5|",
      "metadata": {}
    }
  ]
}